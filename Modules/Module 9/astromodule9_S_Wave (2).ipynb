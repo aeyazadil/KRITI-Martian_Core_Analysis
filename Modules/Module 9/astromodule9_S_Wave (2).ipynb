{
  "cells": [
    {
      "cell_type": "code",
      "execution_count": 5,
      "metadata": {
        "id": "dfnivWfm2D0r"
      },
      "outputs": [],
      "source": [
        "\n",
        "import numpy as np\n",
        "import pandas as pd\n",
        "import matplotlib.pyplot as plt\n",
        "\n",
        "import os\n",
        "import math\n",
        "\n",
        "\n",
        "import torch\n",
        "import torch.nn as nn\n",
        "import torch.optim as optim\n",
        "from torch.utils.data import DataLoader, TensorDataset"
      ]
    },
    {
      "cell_type": "code",
      "execution_count": 5,
      "metadata": {
        "id": "HwjAiQk7iWWg"
      },
      "outputs": [],
      "source": []
    },
    {
      "cell_type": "code",
      "execution_count": 6,
      "metadata": {
        "id": "e3doIgOy3TYT"
      },
      "outputs": [],
      "source": [
        "df = pd.read_csv(\"/content/model.csv\")"
      ]
    },
    {
      "cell_type": "code",
      "execution_count": 7,
      "metadata": {
        "colab": {
          "base_uri": "https://localhost:8080/"
        },
        "id": "aM397K_M3x-I",
        "outputId": "2b007f15-760b-4a86-d8a2-8f766667658e"
      },
      "outputs": [
        {
          "data": {
            "text/plain": [
              "Index(['Depth[km]', 'Vp[km/s]', 'Vs[km/s]', 'Rho[g/cm3]', 'T[K]', 'g[m/s2]',\n",
              "       'P[Pa]'],\n",
              "      dtype='object')"
            ]
          },
          "execution_count": 7,
          "metadata": {},
          "output_type": "execute_result"
        }
      ],
      "source": [
        "df.columns\n"
      ]
    },
    {
      "cell_type": "code",
      "execution_count": 8,
      "metadata": {
        "id": "2t52Gi4J32Yc"
      },
      "outputs": [],
      "source": [
        "\n",
        "df['dist'] = 3389.5 - df['Depth[km]']\n",
        "df = df.drop(['Vp[km/s]', 'Rho[g/cm3]', 'T[K]', 'g[m/s2]',\n",
        "       'P[Pa]', 'Depth[km]'], axis = 1)\n",
        "\n",
        "\n",
        "df = df.rename({'Vs[km/s]': 'Vs'}, axis=1)"
      ]
    },
    {
      "cell_type": "code",
      "execution_count": 9,
      "metadata": {
        "id": "cmYJJysp4M2Y"
      },
      "outputs": [],
      "source": [
        "device = 'cuda'"
      ]
    },
    {
      "cell_type": "code",
      "execution_count": 10,
      "metadata": {
        "id": "YpB4uKR84NcV"
      },
      "outputs": [],
      "source": [
        "def getvs(d, k=2):\n",
        "  di = torch.tensor(np.array(df['dist']), dtype=torch.float32, device=d.device)\n",
        "  vs = torch.tensor(np.array(df['Vs']), dtype=torch.float32, device=d.device)\n",
        "\n",
        "  distance = torch.abs(di - d)\n",
        "  nearest = torch.argsort(distance)[:k]\n",
        "  nearestvp = vs[nearest]\n",
        "  return nearestvp.mean()"
      ]
    },
    {
      "cell_type": "code",
      "execution_count": 10,
      "metadata": {
        "id": "VsX-0Sr55GVQ"
      },
      "outputs": [],
      "source": []
    },
    {
      "cell_type": "code",
      "execution_count": 11,
      "metadata": {
        "id": "MUyQMu0i5Jk9"
      },
      "outputs": [],
      "source": [
        "x = np.linspace(0., 3389.5, 20000)\n",
        "li = []\n",
        "x = torch.Tensor(x).requires_grad_(True).to(device).type(torch.cuda.FloatTensor)\n",
        "for i in x:\n",
        "\n",
        "  li.append(getvs(i).cpu())"
      ]
    },
    {
      "cell_type": "code",
      "execution_count": 12,
      "metadata": {
        "colab": {
          "base_uri": "https://localhost:8080/",
          "height": 430
        },
        "id": "eBjaKpv86L-R",
        "outputId": "606fa2d3-cf99-47ab-c398-9c039b991536"
      },
      "outputs": [
        {
          "data": {
            "image/png": "[encoded data removed]",
            "text/plain": [
              "<Figure size 640x480 with 1 Axes>"
            ]
          },
          "metadata": {},
          "output_type": "display_data"
        }
      ],
      "source": [
        "x = np.linspace(0., 3389.5, 20000)\n",
        "plt.plot(x, li)\n",
        "plt.plot(df['dist'], df['Vs'])\n",
        "plt.legend(['continuous', 'given'])\n",
        "plt.show()"
      ]
    },
    {
      "cell_type": "code",
      "execution_count": 13,
      "metadata": {
        "id": "4wgl_MgUHzJB"
      },
      "outputs": [],
      "source": []
    },
    {
      "cell_type": "markdown",
      "metadata": {
        "id": "eTQgh_8QHzcp"
      },
      "source": [
        "## **MAKING PINN**\n"
      ]
    },
    {
      "cell_type": "code",
      "execution_count": 14,
      "metadata": {
        "id": "fLRPYFzvQUQJ"
      },
      "outputs": [],
      "source": [
        "x0, y0 = 0, 3000\n",
        "def S(x, y, t):\n",
        "  A0 = 1000\n",
        "  k = 1000\n",
        "  return A0 * torch.exp(-(t**2)) * A0 * torch.exp(-k*(((x-x0)**2) + ((y-y0)**2)))"
      ]
    },
    {
      "cell_type": "code",
      "execution_count": 15,
      "metadata": {
        "id": "2zGOm0mLH7CQ"
      },
      "outputs": [],
      "source": [
        "rad = 3389.5\n",
        "pts = 50\n",
        "x = np.linspace(-rad, rad, pts)\n",
        "y = np.linspace(-rad, rad, pts)\n",
        "t = np.linspace(0, 2000, 40)\n",
        "x, y, t = np.meshgrid(x, y, t)\n",
        "\n",
        "dist = np.sqrt(x**2 + y**2)\n",
        "\n",
        "mask = dist < rad\n",
        "x = x[mask]\n",
        "y = y[mask]\n",
        "t = t[mask]\n"
      ]
    },
    {
      "cell_type": "code",
      "execution_count": 16,
      "metadata": {
        "id": "pYyw66gwapwR"
      },
      "outputs": [],
      "source": [
        "rad = 3389.5\n",
        "pts = 50\n",
        "xi = np.linspace(-rad, rad, pts)\n",
        "yi = np.linspace(-rad, rad, pts)\n",
        "ti = np.linspace(0, 0, 1)\n",
        "xi, yi, ti = np.meshgrid(xi, yi, ti)\n",
        "\n",
        "dist = np.sqrt(xi**2 + yi**2)\n",
        "\n",
        "mask = dist < rad\n",
        "xi = xi[mask]\n",
        "yi = yi[mask]\n",
        "ti = ti[mask]"
      ]
    },
    {
      "cell_type": "code",
      "execution_count": 17,
      "metadata": {
        "id": "slguOpzhc6oK"
      },
      "outputs": [],
      "source": [
        "\n",
        "xo = np.linspace(x0, x0, 1)\n",
        "yo = np.linspace(y0, y0, 1)\n",
        "to = np.linspace(0, 2000, 40)\n",
        "xo, yo, to = np.meshgrid(xo, yo, to)\n"
      ]
    },
    {
      "cell_type": "code",
      "execution_count": 18,
      "metadata": {
        "colab": {
          "base_uri": "https://localhost:8080/",
          "height": 430
        },
        "id": "4Zt_rdz7LMzX",
        "outputId": "f1d12d32-262a-4799-916b-794ffb172ee5"
      },
      "outputs": [
        {
          "data": {
            "image/png": "[encoded data removed]",
            "text/plain": [
              "<Figure size 640x480 with 1 Axes>"
            ]
          },
          "metadata": {},
          "output_type": "display_data"
        }
      ],
      "source": [
        "plt.plot(x, y, 'o')\n",
        "plt.axis(\"equal\")\n",
        "plt.show()"
      ]
    },
    {
      "cell_type": "code",
      "execution_count": 19,
      "metadata": {
        "id": "nK62BalvLsL_"
      },
      "outputs": [],
      "source": [
        "device = 'cuda'\n",
        "\n",
        "x = x.reshape(-1, 1)\n",
        "y = y.reshape(-1, 1)\n",
        "t = t.reshape(-1, 1)\n",
        "\n",
        "x = torch.Tensor(x).requires_grad_(True).to(device).type(torch.cuda.FloatTensor)\n",
        "y = torch.Tensor(y).requires_grad_(True).to(device).type(torch.cuda.FloatTensor)\n",
        "t = torch.Tensor(t).requires_grad_(True).to(device).type(torch.cuda.FloatTensor)\n",
        "\n",
        "xi = xi.reshape(-1, 1)\n",
        "yi = yi.reshape(-1, 1)\n",
        "ti = ti.reshape(-1, 1)\n",
        "\n",
        "xi = torch.Tensor(xi).requires_grad_(True).to(device).type(torch.cuda.FloatTensor)\n",
        "yi = torch.Tensor(yi).requires_grad_(True).to(device).type(torch.cuda.FloatTensor)\n",
        "ti = torch.Tensor(ti).requires_grad_(True).to(device).type(torch.cuda.FloatTensor)\n",
        "\n",
        "xo = xo.reshape(-1, 1)\n",
        "yo = yo.reshape(-1, 1)\n",
        "to = to.reshape(-1, 1)\n",
        "\n",
        "xo = torch.Tensor(xo).requires_grad_(True).to(device).type(torch.cuda.FloatTensor)\n",
        "yo = torch.Tensor(yo).requires_grad_(True).to(device).type(torch.cuda.FloatTensor)\n",
        "to = torch.Tensor(to).requires_grad_(True).to(device).type(torch.cuda.FloatTensor)"
      ]
    },
    {
      "cell_type": "code",
      "execution_count": 20,
      "metadata": {
        "id": "5-a_lj1ZN9a6"
      },
      "outputs": [],
      "source": [
        "class Swish(nn.Module):\n",
        "\tdef __init__(self, inplace=True):\n",
        "\t\tsuper(Swish, self).__init__()\n",
        "\t\tself.inplace = inplace\n",
        "\n",
        "\tdef forward(self, x):\n",
        "\t\tif self.inplace:\n",
        "\t\t\tx.mul_(torch.sigmoid(x))\n",
        "\t\t\treturn x\n",
        "\t\telse:\n",
        "\t\t\treturn x * torch.sigmoid(x)\n",
        "\n",
        "def createnn(inputn, hn, outputn):\n",
        "    return nn.Sequential(\n",
        "        nn.Linear(inputn, hn), Swish(),\n",
        "        nn.Linear(hn, hn), Swish(),\n",
        "        nn.Linear(hn, hn), Swish(),\n",
        "        nn.Linear(hn, hn), Swish(),\n",
        "        nn.Linear(hn, hn), Swish(),\n",
        "        nn.Linear(hn, hn), Swish(),\n",
        "        nn.Linear(hn, hn),\n",
        "        nn.Linear(hn, outputn)\n",
        "    )\n",
        "\n",
        "def init_normal(m):\n",
        "\tif type(m) == nn.Linear:\n",
        "\t\tnn.init.kaiming_normal_(m.weight)"
      ]
    },
    {
      "cell_type": "code",
      "execution_count": 21,
      "metadata": {
        "id": "iSegiiD4OXME"
      },
      "outputs": [],
      "source": [
        "phimodel = createnn(4, 128, 1).to(device)\n",
        "phimodel.apply(init_normal)\n",
        "lr = 0.0001\n",
        "torch.manual_seed(42)\n",
        "optimizer = optim.Adam(phimodel.parameters(), lr=lr, betas = (0.9,0.99), eps = 10**-15)"
      ]
    },
    {
      "cell_type": "code",
      "execution_count": 22,
      "metadata": {
        "id": "RyITdzmMSXCg"
      },
      "outputs": [],
      "source": [
        "def eqloss(x, y, t, vs):\n",
        "\n",
        "  ###loss eq phi_tt - vp^2(phi_xx+phi_yy+phi_zz) - S\n",
        "  x.detach().requires_grad = True\n",
        "  y.detach().requires_grad = True\n",
        "  t.detach().requires_grad = True\n",
        "\n",
        "\n",
        "  netin = torch.cat((x, y, t, vs), 1)\n",
        "  U = phimodel(netin)\n",
        "  U = U.view(len(U), -1)\n",
        "\n",
        "  phi_t = torch.autograd.grad(U,t,grad_outputs=torch.ones_like(t),create_graph = True,only_inputs=True)[0]\n",
        "  phi_tt = torch.autograd.grad(phi_t,t,grad_outputs=torch.ones_like(t),create_graph = True,only_inputs=True)[0]\n",
        "\n",
        "  phi_x = torch.autograd.grad(U,x,grad_outputs=torch.ones_like(t),create_graph = True,only_inputs=True)[0]\n",
        "  phi_xx = torch.autograd.grad(phi_x,x,grad_outputs=torch.ones_like(t),create_graph = True,only_inputs=True)[0]\n",
        "\n",
        "  phi_y = torch.autograd.grad(U,y,grad_outputs=torch.ones_like(t),create_graph = True,only_inputs=True)[0]\n",
        "  phi_yy = torch.autograd.grad(phi_y,y,grad_outputs=torch.ones_like(t),create_graph = True,only_inputs=True)[0]\n",
        "\n",
        "  loss = phi_tt - (vs**2)*(phi_xx + phi_yy)\n",
        "\n",
        "  loss_ = nn.MSELoss()(loss, torch.zeros_like(loss))\n",
        "  return loss_\n",
        "\n",
        "def initialloss(x, y, t, vs):\n",
        "  x.detach().requires_grad = True\n",
        "  y.detach().requires_grad = True\n",
        "  t.detach().requires_grad = True\n",
        "\n",
        "  netin = torch.cat((x, y, t, vs), 1)\n",
        "  U = phimodel(netin)\n",
        "  U = U.view(len(U), -1)\n",
        "\n",
        "  loss_ = nn.MSELoss()(U, torch.zeros_like(U))\n",
        "\n",
        "  return loss_\n",
        "\n",
        "\n",
        "def boundaryloss(x, y, t, vs):\n",
        "  x.detach().requires_grad = True\n",
        "  y.detach().requires_grad = True\n",
        "  t.detach().requires_grad = True\n",
        "\n",
        "  netin = torch.cat((x, y, t, vs), 1)\n",
        "  U = phimodel(netin)\n",
        "  U = U.view(len(U), -1)\n",
        "\n",
        "  loss_ = nn.MSELoss()(U, S(x, y, t))\n",
        "  return loss_\n",
        "\n",
        "\n",
        "\n",
        "\n"
      ]
    },
    {
      "cell_type": "code",
      "execution_count": 23,
      "metadata": {
        "id": "MYrZ4t2PROEV"
      },
      "outputs": [],
      "source": [
        "arr = []\n",
        "for i in torch.sqrt(x**2 + y**2):\n",
        "  arr.append(getvs(i))\n",
        "vsall = torch.stack(arr).view(-1, 1)\n",
        "\n",
        "arr = []\n",
        "for i in torch.sqrt(xi**2 + yi**2):\n",
        "  arr.append(getvs(i))\n",
        "vsi = torch.stack(arr).view(-1, 1)\n",
        "\n",
        "arr = []\n",
        "for i in torch.sqrt(xo**2 + yo**2):\n",
        "  arr.append(getvs(i))\n",
        "vso = torch.stack(arr).view(-1, 1)"
      ]
    },
    {
      "cell_type": "code",
      "execution_count": 24,
      "metadata": {
        "id": "hjG95SFpeG9_"
      },
      "outputs": [],
      "source": [
        "# epochs = 900\n",
        "\n",
        "# for epoch in range(epochs):\n",
        "#     phimodel.zero_grad()\n",
        "\n",
        "#     loss_eq = eqloss(x, y, t, vsall)\n",
        "#     #loss_initial = initialloss(xi, yi, ti, vpi)\n",
        "#     loss_boundary = boundaryloss(xo, yo, to, vso)\n",
        "\n",
        "#     loss = loss_eq + loss_boundary# + loss_initial#\n",
        "#     loss.backward()\n",
        "\n",
        "#     optimizer.step()\n",
        "\n",
        "#     if epoch%100 == 0:\n",
        "#         print('Train Epoch: {} \\tLoss: {:.10f}  '.format(epoch, loss.item()))"
      ]
    },
    {
      "cell_type": "markdown",
      "metadata": {
        "id": "SxAvBvrDccD9"
      },
      "source": [
        "## **We have already run the model and saved the weights... As the model takes a lot of time to train, run the following cell to access the weights of the trained model**"
      ]
    },
    {
      "cell_type": "code",
      "execution_count": 30,
      "metadata": {
        "colab": {
          "base_uri": "https://localhost:8080/"
        },
        "id": "Hh2g0Y3m7jt-",
        "outputId": "69b00570-b015-4294-b840-0c576869a707"
      },
      "outputs": [
        {
          "name": "stderr",
          "output_type": "stream",
          "text": [
            "<ipython-input-30-db9aacf7c6cb>:1: FutureWarning: You are using `torch.load` with `weights_only=False` (the current default value), which uses the default pickle module implicitly. It is possible to construct malicious pickle data which will execute arbitrary code during unpickling (See https://github.com/pytorch/pytorch/blob/main/SECURITY.md#untrusted-models for more details). In a future release, the default value for `weights_only` will be flipped to `True`. This limits the functions that could be executed during unpickling. Arbitrary objects will no longer be allowed to be loaded via this mode unless they are explicitly allowlisted by the user via `torch.serialization.add_safe_globals`. We recommend you start setting `weights_only=True` for any use case where you don't have full control of the loaded file. Please open an issue on GitHub for any issues related to this experimental feature.\n",
            "  phimodel = torch.load(\"/content/phimodels2.pth\")\n"
          ]
        }
      ],
      "source": [
        "phimodel = torch.load(\"/content/phimodels2.pth\")"
      ]
    },
    {
      "cell_type": "code",
      "execution_count": 1,
      "metadata": {
        "id": "2NGCaGQYQjFA"
      },
      "outputs": [],
      "source": []
    },
    {
      "cell_type": "code",
      "execution_count": 31,
      "metadata": {
        "colab": {
          "base_uri": "https://localhost:8080/",
          "height": 1000
        },
        "id": "DGostaQ_ZlNF",
        "outputId": "d25c6bc6-242e-4ef3-de30-8928cee1a110"
      },
      "outputs": [
        {
          "name": "stderr",
          "output_type": "stream",
          "text": [
            "WARNING:matplotlib.axes._base:Ignoring fixed y limits to fulfill fixed data aspect with adjustable data limits.\n"
          ]
        },
        {
          "name": "stdout",
          "output_type": "stream",
          "text": [
            "[2.9824624] [2646.4932]\n"
          ]
        },
        {
          "name": "stderr",
          "output_type": "stream",
          "text": [
            "WARNING:matplotlib.axes._base:Ignoring fixed y limits to fulfill fixed data aspect with adjustable data limits.\n"
          ]
        },
        {
          "name": "stdout",
          "output_type": "stream",
          "text": [
            "[1.4414297] [1871.4784]\n"
          ]
        },
        {
          "name": "stderr",
          "output_type": "stream",
          "text": [
            "WARNING:matplotlib.axes._base:Ignoring fixed y limits to fulfill fixed data aspect with adjustable data limits.\n"
          ]
        },
        {
          "name": "stdout",
          "output_type": "stream",
          "text": [
            "[0.41615328] [1649.3146]\n"
          ]
        },
        {
          "name": "stderr",
          "output_type": "stream",
          "text": [
            "WARNING:matplotlib.axes._base:Ignoring fixed y limits to fulfill fixed data aspect with adjustable data limits.\n"
          ]
        },
        {
          "name": "stdout",
          "output_type": "stream",
          "text": [
            "[0.44992143] [1161.7692]\n"
          ]
        },
        {
          "name": "stderr",
          "output_type": "stream",
          "text": [
            "WARNING:matplotlib.axes._base:Ignoring fixed y limits to fulfill fixed data aspect with adjustable data limits.\n"
          ]
        },
        {
          "name": "stdout",
          "output_type": "stream",
          "text": [
            "[0.47139812] [954.0608]\n"
          ]
        },
        {
          "name": "stderr",
          "output_type": "stream",
          "text": [
            "WARNING:matplotlib.axes._base:Ignoring fixed y limits to fulfill fixed data aspect with adjustable data limits.\n"
          ]
        },
        {
          "name": "stdout",
          "output_type": "stream",
          "text": [
            "[0.5004089] [1054.5676]\n"
          ]
        },
        {
          "name": "stderr",
          "output_type": "stream",
          "text": [
            "WARNING:matplotlib.axes._base:Ignoring fixed y limits to fulfill fixed data aspect with adjustable data limits.\n"
          ]
        },
        {
          "name": "stdout",
          "output_type": "stream",
          "text": [
            "[0.26839316] [842.0446]\n",
            "[0.38612688] [560.8151]\n"
          ]
        },
        {
          "name": "stderr",
          "output_type": "stream",
          "text": [
            "WARNING:matplotlib.axes._base:Ignoring fixed y limits to fulfill fixed data aspect with adjustable data limits.\n",
            "WARNING:matplotlib.axes._base:Ignoring fixed y limits to fulfill fixed data aspect with adjustable data limits.\n"
          ]
        },
        {
          "name": "stdout",
          "output_type": "stream",
          "text": [
            "[0.38659844] [353.87057]\n"
          ]
        },
        {
          "name": "stderr",
          "output_type": "stream",
          "text": [
            "WARNING:matplotlib.axes._base:Ignoring fixed y limits to fulfill fixed data aspect with adjustable data limits.\n"
          ]
        },
        {
          "name": "stdout",
          "output_type": "stream",
          "text": [
            "[0.39451417] [97.022255]\n"
          ]
        },
        {
          "name": "stderr",
          "output_type": "stream",
          "text": [
            "WARNING:matplotlib.axes._base:Ignoring fixed y limits to fulfill fixed data aspect with adjustable data limits.\n"
          ]
        },
        {
          "name": "stdout",
          "output_type": "stream",
          "text": [
            "[0.30415267] [39.276028]\n"
          ]
        },
        {
          "name": "stderr",
          "output_type": "stream",
          "text": [
            "WARNING:matplotlib.axes._base:Ignoring fixed y limits to fulfill fixed data aspect with adjustable data limits.\n"
          ]
        },
        {
          "name": "stdout",
          "output_type": "stream",
          "text": [
            "[0.37075818] [38.089066]\n"
          ]
        },
        {
          "name": "stderr",
          "output_type": "stream",
          "text": [
            "WARNING:matplotlib.axes._base:Ignoring fixed y limits to fulfill fixed data aspect with adjustable data limits.\n"
          ]
        },
        {
          "name": "stdout",
          "output_type": "stream",
          "text": [
            "[0.36453542] [44.00762]\n"
          ]
        },
        {
          "name": "stderr",
          "output_type": "stream",
          "text": [
            "WARNING:matplotlib.axes._base:Ignoring fixed y limits to fulfill fixed data aspect with adjustable data limits.\n"
          ]
        },
        {
          "name": "stdout",
          "output_type": "stream",
          "text": [
            "[0.22537072] [45.47212]\n"
          ]
        },
        {
          "name": "stderr",
          "output_type": "stream",
          "text": [
            "WARNING:matplotlib.axes._base:Ignoring fixed y limits to fulfill fixed data aspect with adjustable data limits.\n"
          ]
        },
        {
          "name": "stdout",
          "output_type": "stream",
          "text": [
            "[0.3820513] [40.302536]\n"
          ]
        },
        {
          "name": "stderr",
          "output_type": "stream",
          "text": [
            "WARNING:matplotlib.axes._base:Ignoring fixed y limits to fulfill fixed data aspect with adjustable data limits.\n"
          ]
        },
        {
          "name": "stdout",
          "output_type": "stream",
          "text": [
            "[0.11404303] [33.678024]\n"
          ]
        },
        {
          "name": "stderr",
          "output_type": "stream",
          "text": [
            "WARNING:matplotlib.axes._base:Ignoring fixed y limits to fulfill fixed data aspect with adjustable data limits.\n"
          ]
        },
        {
          "name": "stdout",
          "output_type": "stream",
          "text": [
            "[0.37539467] [32.473324]\n"
          ]
        },
        {
          "name": "stderr",
          "output_type": "stream",
          "text": [
            "WARNING:matplotlib.axes._base:Ignoring fixed y limits to fulfill fixed data aspect with adjustable data limits.\n"
          ]
        },
        {
          "name": "stdout",
          "output_type": "stream",
          "text": [
            "[0.21465686] [33.1551]\n"
          ]
        },
        {
          "name": "stderr",
          "output_type": "stream",
          "text": [
            "WARNING:matplotlib.axes._base:Ignoring fixed y limits to fulfill fixed data aspect with adjustable data limits.\n"
          ]
        },
        {
          "name": "stdout",
          "output_type": "stream",
          "text": [
            "[0.16358012] [35.806545]\n"
          ]
        },
        {
          "name": "stderr",
          "output_type": "stream",
          "text": [
            "WARNING:matplotlib.axes._base:Ignoring fixed y limits to fulfill fixed data aspect with adjustable data limits.\n"
          ]
        },
        {
          "name": "stdout",
          "output_type": "stream",
          "text": [
            "[0.35778973] [34.46553]\n"
          ]
        },
        {
          "name": "stderr",
          "output_type": "stream",
          "text": [
            "WARNING:matplotlib.axes._base:Ignoring fixed y limits to fulfill fixed data aspect with adjustable data limits.\n"
          ]
        },
        {
          "name": "stdout",
          "output_type": "stream",
          "text": [
            "[0.14513731] [33.925842]\n"
          ]
        },
        {
          "name": "stderr",
          "output_type": "stream",
          "text": [
            "WARNING:matplotlib.axes._base:Ignoring fixed y limits to fulfill fixed data aspect with adjustable data limits.\n"
          ]
        },
        {
          "name": "stdout",
          "output_type": "stream",
          "text": [
            "[0.13611752] [34.36981]\n"
          ]
        },
        {
          "name": "stderr",
          "output_type": "stream",
          "text": [
            "WARNING:matplotlib.axes._base:Ignoring fixed y limits to fulfill fixed data aspect with adjustable data limits.\n"
          ]
        },
        {
          "name": "stdout",
          "output_type": "stream",
          "text": [
            "[0.13611794] [34.226063]\n"
          ]
        },
        {
          "name": "stderr",
          "output_type": "stream",
          "text": [
            "WARNING:matplotlib.axes._base:Ignoring fixed y limits to fulfill fixed data aspect with adjustable data limits.\n"
          ]
        },
        {
          "name": "stdout",
          "output_type": "stream",
          "text": [
            "[0.13611794] [34.276703]\n"
          ]
        },
        {
          "name": "stderr",
          "output_type": "stream",
          "text": [
            "WARNING:matplotlib.axes._base:Ignoring fixed y limits to fulfill fixed data aspect with adjustable data limits.\n"
          ]
        },
        {
          "name": "stdout",
          "output_type": "stream",
          "text": [
            "[0.13621263] [34.76796]\n"
          ]
        },
        {
          "name": "stderr",
          "output_type": "stream",
          "text": [
            "WARNING:matplotlib.axes._base:Ignoring fixed y limits to fulfill fixed data aspect with adjustable data limits.\n"
          ]
        },
        {
          "name": "stdout",
          "output_type": "stream",
          "text": [
            "[0.27568194] [33.103527]\n"
          ]
        },
        {
          "name": "stderr",
          "output_type": "stream",
          "text": [
            "WARNING:matplotlib.axes._base:Ignoring fixed y limits to fulfill fixed data aspect with adjustable data limits.\n"
          ]
        },
        {
          "name": "stdout",
          "output_type": "stream",
          "text": [
            "[0.26611286] [33.92378]\n"
          ]
        },
        {
          "name": "stderr",
          "output_type": "stream",
          "text": [
            "WARNING:matplotlib.axes._base:Ignoring fixed y limits to fulfill fixed data aspect with adjustable data limits.\n"
          ]
        },
        {
          "name": "stdout",
          "output_type": "stream",
          "text": [
            "[0.34696108] [32.976414]\n"
          ]
        },
        {
          "name": "stderr",
          "output_type": "stream",
          "text": [
            "WARNING:matplotlib.axes._base:Ignoring fixed y limits to fulfill fixed data aspect with adjustable data limits.\n"
          ]
        },
        {
          "name": "stdout",
          "output_type": "stream",
          "text": [
            "[0.40815017] [32.769615]\n"
          ]
        },
        {
          "name": "stderr",
          "output_type": "stream",
          "text": [
            "WARNING:matplotlib.axes._base:Ignoring fixed y limits to fulfill fixed data aspect with adjustable data limits.\n"
          ]
        },
        {
          "name": "stdout",
          "output_type": "stream",
          "text": [
            "[0.347073] [35.791924]\n"
          ]
        },
        {
          "name": "stderr",
          "output_type": "stream",
          "text": [
            "WARNING:matplotlib.axes._base:Ignoring fixed y limits to fulfill fixed data aspect with adjustable data limits.\n"
          ]
        },
        {
          "name": "stdout",
          "output_type": "stream",
          "text": [
            "[0.23586106] [34.685215]\n"
          ]
        },
        {
          "name": "stderr",
          "output_type": "stream",
          "text": [
            "WARNING:matplotlib.axes._base:Ignoring fixed y limits to fulfill fixed data aspect with adjustable data limits.\n"
          ]
        },
        {
          "name": "stdout",
          "output_type": "stream",
          "text": [
            "[0.04953378] [33.400867]\n"
          ]
        },
        {
          "name": "stderr",
          "output_type": "stream",
          "text": [
            "WARNING:matplotlib.axes._base:Ignoring fixed y limits to fulfill fixed data aspect with adjustable data limits.\n"
          ]
        },
        {
          "name": "stdout",
          "output_type": "stream",
          "text": [
            "[0.40802187] [33.58729]\n"
          ]
        },
        {
          "name": "stderr",
          "output_type": "stream",
          "text": [
            "WARNING:matplotlib.axes._base:Ignoring fixed y limits to fulfill fixed data aspect with adjustable data limits.\n"
          ]
        },
        {
          "name": "stdout",
          "output_type": "stream",
          "text": [
            "[0.27439514] [33.579163]\n"
          ]
        },
        {
          "name": "stderr",
          "output_type": "stream",
          "text": [
            "WARNING:matplotlib.axes._base:Ignoring fixed y limits to fulfill fixed data aspect with adjustable data limits.\n"
          ]
        },
        {
          "name": "stdout",
          "output_type": "stream",
          "text": [
            "[0.3226326] [33.58621]\n"
          ]
        },
        {
          "name": "stderr",
          "output_type": "stream",
          "text": [
            "WARNING:matplotlib.axes._base:Ignoring fixed y limits to fulfill fixed data aspect with adjustable data limits.\n"
          ]
        },
        {
          "name": "stdout",
          "output_type": "stream",
          "text": [
            "[0.33250463] [33.118702]\n"
          ]
        },
        {
          "name": "stderr",
          "output_type": "stream",
          "text": [
            "WARNING:matplotlib.axes._base:Ignoring fixed y limits to fulfill fixed data aspect with adjustable data limits.\n"
          ]
        },
        {
          "name": "stdout",
          "output_type": "stream",
          "text": [
            "[0.341784] [33.689537]\n"
          ]
        },
        {
          "name": "stderr",
          "output_type": "stream",
          "text": [
            "WARNING:matplotlib.axes._base:Ignoring fixed y limits to fulfill fixed data aspect with adjustable data limits.\n"
          ]
        },
        {
          "name": "stdout",
          "output_type": "stream",
          "text": [
            "[0.2657908] [33.410618]\n"
          ]
        },
        {
          "name": "stderr",
          "output_type": "stream",
          "text": [
            "WARNING:matplotlib.axes._base:Ignoring fixed y limits to fulfill fixed data aspect with adjustable data limits.\n"
          ]
        },
        {
          "name": "stdout",
          "output_type": "stream",
          "text": [
            "[0.34682032] [33.148746]\n"
          ]
        },
        {
          "name": "stderr",
          "output_type": "stream",
          "text": [
            "WARNING:matplotlib.axes._base:Ignoring fixed y limits to fulfill fixed data aspect with adjustable data limits.\n"
          ]
        },
        {
          "name": "stdout",
          "output_type": "stream",
          "text": [
            "[0.23354845] [34.342957]\n"
          ]
        },
        {
          "data": {
            "application/javascript": "\n    async function download(id, filename, size) {\n      if (!google.colab.kernel.accessAllowed) {\n        return;\n      }\n      const div = document.createElement('div');\n      const label = document.createElement('label');\n      label.textContent = `Downloading \"${filename}\": `;\n      div.appendChild(label);\n      const progress = document.createElement('progress');\n      progress.max = size;\n      div.appendChild(progress);\n      document.body.appendChild(div);\n\n      const buffers = [];\n      let downloaded = 0;\n\n      const channel = await google.colab.kernel.comms.open(id);\n      // Send a message to notify the kernel that we're ready.\n      channel.send({})\n\n      for await (const message of channel.messages) {\n        // Send a message to notify the kernel that we're ready.\n        channel.send({})\n        if (message.buffers) {\n          for (const buffer of message.buffers) {\n            buffers.push(buffer);\n            downloaded += buffer.byteLength;\n            progress.value = downloaded;\n          }\n        }\n      }\n      const blob = new Blob(buffers, {type: 'application/binary'});\n      const a = document.createElement('a');\n      a.href = window.URL.createObjectURL(blob);\n      a.download = filename;\n      div.appendChild(a);\n      a.click();\n      div.remove();\n    }\n  ",
            "text/plain": [
              "<IPython.core.display.Javascript object>"
            ]
          },
          "metadata": {},
          "output_type": "display_data"
        },
        {
          "data": {
            "application/javascript": "download(\"download_139004e8-3730-4a7a-adf3-c1eed198deac\", \"ufinal.mp4\", 1008574)",
            "text/plain": [
              "<IPython.core.display.Javascript object>"
            ]
          },
          "metadata": {},
          "output_type": "display_data"
        }
      ],
      "source": [
        "import torch\n",
        "import matplotlib.pyplot as plt\n",
        "import cv2\n",
        "import numpy as np\n",
        "\n",
        "# Placeholder for the generated frames\n",
        "frames = []\n",
        "\n",
        "for i in range(0, 2000, 50):\n",
        "    xplot = xi\n",
        "    yplot = yi\n",
        "    tplot = torch.ones_like(xplot) * i\n",
        "\n",
        "    xplot_cpu = xplot.cpu().detach().numpy()\n",
        "    yplot_cpu = yplot.cpu().detach().numpy()\n",
        "    tplot_cpu = tplot.cpu().detach().numpy()\n",
        "\n",
        "    xplot.detach().requires_grad = True\n",
        "    yplot.detach().requires_grad = True\n",
        "    tplot.detach().requires_grad = True\n",
        "\n",
        "    # Predict phi using the model\n",
        "\n",
        "    phi = phimodel(torch.cat((xplot, yplot, tplot, vsi), dim=1))\n",
        "    U = phi.view(len(phi), -1)\n",
        "\n",
        "    ux = torch.autograd.grad(U,xplot,grad_outputs=torch.ones_like(xplot),create_graph = True,only_inputs=True)[0]\n",
        "    uy = torch.autograd.grad(U,yplot,grad_outputs=torch.ones_like(yplot),create_graph = True,only_inputs=True)[0]\n",
        "    # Convert phi to NumPy\n",
        "\n",
        "    magu = torch.sqrt(ux**2 + uy**2)\n",
        "    phi_grid = phi.detach().cpu().numpy().reshape(xplot_cpu.shape)\n",
        "    u_grid = magu.detach().cpu().numpy().reshape(xplot_cpu.shape)\n",
        "\n",
        "\n",
        "    print(min(u_grid), max(u_grid))\n",
        "    # Scatter plot for circular graph\n",
        "    fig, ax = plt.subplots(figsize=(8, 8))\n",
        "    scatter = ax.scatter(xplot_cpu.ravel(), yplot_cpu.ravel(), c=u_grid.ravel(), cmap=\"coolwarm\", vmin=0, vmax=1000)\n",
        "    plt.colorbar(scatter, label=\"u(x, y)\")\n",
        "    ax.set_xlim([xplot_cpu.min(), xplot_cpu.max()])\n",
        "    ax.set_ylim([yplot_cpu.min(), yplot_cpu.max()])\n",
        "    ax.set_aspect('equal', adjustable='datalim')\n",
        "    plt.title(f\"Circular Graph of u(x, y), t={i}\")\n",
        "\n",
        "    # Save the frame to an image buffer\n",
        "    plt.savefig(\"temp_frame.png\", bbox_inches='tight', pad_inches=0.1)\n",
        "    plt.close(fig)\n",
        "\n",
        "    # Read saved frame and add to list\n",
        "    frame = cv2.imread(\"temp_frame.png\")\n",
        "    if frame is not None:\n",
        "        frames.append(frame)\n",
        "\n",
        "# Define video properties\n",
        "if frames:\n",
        "    height, width, _ = frames[0].shape\n",
        "    out = cv2.VideoWriter('ufinal.mp4', cv2.VideoWriter_fourcc(*'mp4v'), 10, (width, height))\n",
        "    for frame in frames:\n",
        "        out.write(frame)\n",
        "    out.release()\n",
        "\n",
        "    # Download the video\n",
        "    from google.colab import files\n",
        "    files.download('ufinal.mp4')\n",
        "else:\n",
        "    print(\"No frames were generated. Please check the input data.\")\n"
      ]
    },
    {
      "cell_type": "code",
      "execution_count": 32,
      "metadata": {
        "id": "fZ8tmAWqFcDS"
      },
      "outputs": [],
      "source": [
        "rad = 3389.5  # Radius of the circle\n",
        "theta = np.linspace(np.pi/2, 5 * np.pi/2, 360, endpoint=False)  # 360 equally spaced angles\n",
        "\n",
        "# Convert polar coordinates to Cartesian coordinates\n",
        "x = rad * np.cos(theta)\n",
        "y = rad * np.sin(theta)\n",
        "\n",
        "# Combine x and y into a list of coordinates\n",
        "circumference_points = np.column_stack((x, y))\n"
      ]
    },
    {
      "cell_type": "code",
      "execution_count": 33,
      "metadata": {
        "id": "tss9qTDhHcB9"
      },
      "outputs": [],
      "source": [
        "xst = []\n",
        "yst = []\n",
        "for (x, y) in circumference_points:\n",
        "  xst.append(x)\n",
        "  yst.append(y)"
      ]
    },
    {
      "cell_type": "code",
      "execution_count": 34,
      "metadata": {
        "id": "Dhmxbkt05MrW"
      },
      "outputs": [],
      "source": [
        "time = []\n",
        "arr = []\n",
        "xs = np.array(xst)\n",
        "ys = np.array(yst)\n",
        "xs = xs.reshape(-1, 1)\n",
        "ys = ys.reshape(-1, 1)\n",
        "\n",
        "\n",
        "xs = torch.Tensor(xs).requires_grad_(True).to(device).type(torch.cuda.FloatTensor)\n",
        "ys = torch.Tensor(ys).requires_grad_(True).to(device).type(torch.cuda.FloatTensor)\n",
        "for i in torch.sqrt(xs**2 + ys**2):\n",
        "  arr.append(getvs(i))\n",
        "vss = torch.stack(arr).view(-1, 1)"
      ]
    },
    {
      "cell_type": "code",
      "execution_count": 35,
      "metadata": {
        "id": "P36xIXLU1X7n"
      },
      "outputs": [],
      "source": [
        "\n",
        "for i in range(0, 2000, 50):\n",
        "\n",
        "  xs = np.array(xst)\n",
        "  ys = np.array(yst)\n",
        "  ts = np.ones_like(xs) * i\n",
        "\n",
        "  xs = xs.reshape(-1, 1)\n",
        "  ys = ys.reshape(-1, 1)\n",
        "  ts = ts.reshape(-1, 1)\n",
        "\n",
        "  xs = torch.Tensor(xs).requires_grad_(True).to(device).type(torch.cuda.FloatTensor)\n",
        "  ys = torch.Tensor(ys).requires_grad_(True).to(device).type(torch.cuda.FloatTensor)\n",
        "  ts = torch.Tensor(ts).requires_grad_(True).to(device).type(torch.cuda.FloatTensor)\n",
        "\n",
        "  time.append(phimodel(torch.cat((xs, ys, ts, vss), dim = 1)))"
      ]
    },
    {
      "cell_type": "code",
      "execution_count": 36,
      "metadata": {
        "id": "lGftuQ512ELk"
      },
      "outputs": [],
      "source": [
        "t = []\n",
        "for j in range(360):\n",
        "\n",
        "  temp = -999999999999999999\n",
        "  for i in time:\n",
        "    i.cpu().detach().numpy()\n",
        "    temp = max(temp, i[j].cpu().detach().numpy()[0])\n",
        "\n",
        "  t.append(temp)"
      ]
    },
    {
      "cell_type": "code",
      "execution_count": 37,
      "metadata": {
        "colab": {
          "base_uri": "https://localhost:8080/",
          "height": 445
        },
        "id": "KmM5YPIX5WEU",
        "outputId": "c9df258c-b45f-4309-f629-bb1e13d975be"
      },
      "outputs": [
        {
          "data": {
            "image/png": "[encoded data removed]",
            "text/plain": [
              "<Figure size 640x480 with 1 Axes>"
            ]
          },
          "metadata": {},
          "output_type": "display_data"
        }
      ],
      "source": [
        "plt.plot(t)\n",
        "plt.show()"
      ]
    },
    {
      "cell_type": "code",
      "execution_count": 38,
      "metadata": {
        "colab": {
          "base_uri": "https://localhost:8080/"
        },
        "id": "L6u6DKNz6eDi",
        "outputId": "c9588beb-8e40-4aba-8063-aab453e17133"
      },
      "outputs": [
        {
          "data": {
            "text/plain": [
              "360"
            ]
          },
          "execution_count": 38,
          "metadata": {},
          "output_type": "execute_result"
        }
      ],
      "source": [
        "len(t)"
      ]
    },
    {
      "cell_type": "code",
      "execution_count": null,
      "metadata": {
        "id": "YtHehOBv7ZJP"
      },
      "outputs": [],
      "source": [
        "torch.save(phimodel, '/content/phimodels2.pth')"
      ]
    },
    {
      "cell_type": "code",
      "execution_count": null,
      "metadata": {
        "id": "xdUWaL7JlIz9"
      },
      "outputs": [],
      "source": []
    }
  ],
  "metadata": {
    "accelerator": "GPU",
    "colab": {
      "gpuType": "T4",
      "provenance": []
    },
    "kernelspec": {
      "display_name": "Python 3",
      "name": "python3"
    },
    "language_info": {
      "name": "python"
    }
  },
  "nbformat": 4,
  "nbformat_minor": 0
}
