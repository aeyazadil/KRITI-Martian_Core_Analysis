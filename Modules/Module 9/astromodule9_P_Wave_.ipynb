{
  "cells": [
    {
      "cell_type": "code",
      "execution_count": 2,
      "metadata": {
        "id": "dfnivWfm2D0r"
      },
      "outputs": [],
      "source": [
        "\n",
        "import numpy as np\n",
        "import pandas as pd\n",
        "import matplotlib.pyplot as plt\n",
        "\n",
        "import os\n",
        "import math\n",
        "\n",
        "\n",
        "import torch\n",
        "import torch.nn as nn\n",
        "import torch.optim as optim\n",
        "from torch.utils.data import DataLoader, TensorDataset"
      ]
    },
    {
      "cell_type": "code",
      "execution_count": null,
      "metadata": {
        "id": "HwjAiQk7iWWg"
      },
      "outputs": [],
      "source": []
    },
    {
      "cell_type": "code",
      "execution_count": 3,
      "metadata": {
        "id": "e3doIgOy3TYT"
      },
      "outputs": [],
      "source": [
        "df = pd.read_csv(\"model.csv\")"
      ]
    },
    {
      "cell_type": "code",
      "execution_count": 4,
      "metadata": {
        "colab": {
          "base_uri": "https://localhost:8080/"
        },
        "id": "aM397K_M3x-I",
        "outputId": "85ade347-31a2-484c-a7bf-fafb7c3ae369"
      },
      "outputs": [
        {
          "output_type": "execute_result",
          "data": {
            "text/plain": [
              "Index(['Depth[km]', 'Vp[km/s]', 'Vs[km/s]', 'Rho[g/cm3]', 'T[K]', 'g[m/s2]',\n",
              "       'P[Pa]'],\n",
              "      dtype='object')"
            ]
          },
          "metadata": {},
          "execution_count": 4
        }
      ],
      "source": [
        "df.columns\n"
      ]
    },
    {
      "cell_type": "code",
      "execution_count": 5,
      "metadata": {
        "id": "2t52Gi4J32Yc"
      },
      "outputs": [],
      "source": [
        "\n",
        "df['dist'] = 3389.5 - df['Depth[km]']\n",
        "df = df.drop(['Vs[km/s]', 'Rho[g/cm3]', 'T[K]', 'g[m/s2]',\n",
        "       'P[Pa]', 'Depth[km]'], axis = 1)\n",
        "\n",
        "\n",
        "df = df.rename({'Vp[km/s]': 'Vp'}, axis=1)"
      ]
    },
    {
      "cell_type": "code",
      "execution_count": 6,
      "metadata": {
        "id": "cmYJJysp4M2Y"
      },
      "outputs": [],
      "source": [
        "device = 'cuda'"
      ]
    },
    {
      "cell_type": "code",
      "execution_count": 7,
      "metadata": {
        "id": "YpB4uKR84NcV"
      },
      "outputs": [],
      "source": [
        "##gets velocity of wave by averaging nearest two points in data\n",
        "\n",
        "def getvp(d, k=2):\n",
        "  di = torch.tensor(np.array(df['dist']), dtype=torch.float32, device=d.device)\n",
        "  vp = torch.tensor(np.array(df['Vp']), dtype=torch.float32, device=d.device)\n",
        "\n",
        "  distance = torch.abs(di - d)\n",
        "  nearest = torch.argsort(distance)[:k]\n",
        "  nearestvp = vp[nearest]\n",
        "  return nearestvp.mean()"
      ]
    },
    {
      "cell_type": "code",
      "execution_count": null,
      "metadata": {
        "id": "VsX-0Sr55GVQ"
      },
      "outputs": [],
      "source": []
    },
    {
      "cell_type": "code",
      "execution_count": 8,
      "metadata": {
        "id": "MUyQMu0i5Jk9"
      },
      "outputs": [],
      "source": [
        "x = np.linspace(0., 3389.5, 20000)\n",
        "li = []\n",
        "x = torch.Tensor(x).requires_grad_(True).to(device).type(torch.cuda.FloatTensor)\n",
        "for i in x:\n",
        "\n",
        "  li.append(getvp(i).cpu())"
      ]
    },
    {
      "cell_type": "code",
      "execution_count": 30,
      "metadata": {
        "colab": {
          "base_uri": "https://localhost:8080/",
          "height": 449
        },
        "id": "eBjaKpv86L-R",
        "outputId": "72a4d10e-ac3f-440d-c0f1-36d4a0e91d9c"
      },
      "outputs": [
        {
          "output_type": "display_data",
          "data": {
            "text/plain": [
              "<Figure size 640x480 with 1 Axes>"
            ],
            "image/png": "[encoded data removed]"
          },
          "metadata": {}
        }
      ],
      "source": [
        "##speed of wave with distance from centre\n",
        "x = np.linspace(0., 3389.5, 20000)\n",
        "plt.plot(x, li)\n",
        "plt.plot(df['dist'], df['Vp'])\n",
        "plt.legend(['continuous', 'given'])\n",
        "plt.xlabel(\"Radius(km)\")\n",
        "plt.ylabel(\"P-Wave velocity(km/s)\")\n",
        "plt.show()"
      ]
    },
    {
      "cell_type": "code",
      "execution_count": null,
      "metadata": {
        "id": "4wgl_MgUHzJB"
      },
      "outputs": [],
      "source": []
    },
    {
      "cell_type": "markdown",
      "metadata": {
        "id": "eTQgh_8QHzcp"
      },
      "source": [
        "## **MAKING PINN**\n"
      ]
    },
    {
      "cell_type": "code",
      "execution_count": 10,
      "metadata": {
        "id": "fLRPYFzvQUQJ"
      },
      "outputs": [],
      "source": [
        "x0, y0 = 0, 3000\n",
        "def S(x, y, t):\n",
        "  A0 = 1000\n",
        "  k = 1000\n",
        "  return A0 * torch.exp(-(t**2)) * A0 * torch.exp(-k*(((x-x0)**2) + ((y-y0)**2)))"
      ]
    },
    {
      "cell_type": "code",
      "execution_count": 11,
      "metadata": {
        "id": "2zGOm0mLH7CQ"
      },
      "outputs": [],
      "source": [
        "rad = 3389.5\n",
        "pts = 50\n",
        "x = np.linspace(-rad, rad, pts)\n",
        "y = np.linspace(-rad, rad, pts)\n",
        "t = np.linspace(0, 2000, 40)\n",
        "x, y, t = np.meshgrid(x, y, t)\n",
        "\n",
        "dist = np.sqrt(x**2 + y**2)\n",
        "\n",
        "mask = dist < rad\n",
        "x = x[mask]\n",
        "y = y[mask]\n",
        "t = t[mask]\n"
      ]
    },
    {
      "cell_type": "code",
      "execution_count": 12,
      "metadata": {
        "id": "pYyw66gwapwR"
      },
      "outputs": [],
      "source": [
        "rad = 3389.5\n",
        "pts = 50\n",
        "xi = np.linspace(-rad, rad, pts)\n",
        "yi = np.linspace(-rad, rad, pts)\n",
        "ti = np.linspace(0, 0, 1)\n",
        "xi, yi, ti = np.meshgrid(xi, yi, ti)\n",
        "\n",
        "dist = np.sqrt(xi**2 + yi**2)\n",
        "\n",
        "mask = dist < rad\n",
        "xi = xi[mask]\n",
        "yi = yi[mask]\n",
        "ti = ti[mask]"
      ]
    },
    {
      "cell_type": "code",
      "execution_count": 13,
      "metadata": {
        "id": "slguOpzhc6oK"
      },
      "outputs": [],
      "source": [
        "\n",
        "xo = np.linspace(x0, x0, 1)\n",
        "yo = np.linspace(y0, y0, 1)\n",
        "to = np.linspace(0, 2000, 40)\n",
        "xo, yo, to = np.meshgrid(xo, yo, to)\n"
      ]
    },
    {
      "cell_type": "code",
      "execution_count": 14,
      "metadata": {
        "colab": {
          "base_uri": "https://localhost:8080/",
          "height": 430
        },
        "id": "4Zt_rdz7LMzX",
        "outputId": "b72068df-61cb-461b-cf0d-f25b948385f4"
      },
      "outputs": [
        {
          "output_type": "display_data",
          "data": {
            "text/plain": [
              "<Figure size 640x480 with 1 Axes>"
            ],
            "image/png": "[encoded data removed]"
          },
          "metadata": {}
        }
      ],
      "source": [
        "plt.plot(x, y, 'o')\n",
        "plt.axis(\"equal\")\n",
        "plt.show()"
      ]
    },
    {
      "cell_type": "code",
      "execution_count": 15,
      "metadata": {
        "id": "nK62BalvLsL_"
      },
      "outputs": [],
      "source": [
        "device = 'cuda'\n",
        "\n",
        "x = x.reshape(-1, 1)\n",
        "y = y.reshape(-1, 1)\n",
        "t = t.reshape(-1, 1)\n",
        "\n",
        "x = torch.Tensor(x).requires_grad_(True).to(device).type(torch.cuda.FloatTensor)\n",
        "y = torch.Tensor(y).requires_grad_(True).to(device).type(torch.cuda.FloatTensor)\n",
        "t = torch.Tensor(t).requires_grad_(True).to(device).type(torch.cuda.FloatTensor)\n",
        "\n",
        "xi = xi.reshape(-1, 1)\n",
        "yi = yi.reshape(-1, 1)\n",
        "ti = ti.reshape(-1, 1)\n",
        "\n",
        "xi = torch.Tensor(xi).requires_grad_(True).to(device).type(torch.cuda.FloatTensor)\n",
        "yi = torch.Tensor(yi).requires_grad_(True).to(device).type(torch.cuda.FloatTensor)\n",
        "ti = torch.Tensor(ti).requires_grad_(True).to(device).type(torch.cuda.FloatTensor)\n",
        "\n",
        "xo = xo.reshape(-1, 1)\n",
        "yo = yo.reshape(-1, 1)\n",
        "to = to.reshape(-1, 1)\n",
        "\n",
        "xo = torch.Tensor(xo).requires_grad_(True).to(device).type(torch.cuda.FloatTensor)\n",
        "yo = torch.Tensor(yo).requires_grad_(True).to(device).type(torch.cuda.FloatTensor)\n",
        "to = torch.Tensor(to).requires_grad_(True).to(device).type(torch.cuda.FloatTensor)"
      ]
    },
    {
      "cell_type": "code",
      "execution_count": 16,
      "metadata": {
        "id": "5-a_lj1ZN9a6"
      },
      "outputs": [],
      "source": [
        "##swish = x * sigmoid(x)\n",
        "\n",
        "class Swish(nn.Module):\n",
        "\tdef __init__(self, inplace=True):\n",
        "\t\tsuper(Swish, self).__init__()\n",
        "\t\tself.inplace = inplace\n",
        "\n",
        "\tdef forward(self, x):\n",
        "\t\tif self.inplace:\n",
        "\t\t\tx.mul_(torch.sigmoid(x))\n",
        "\t\t\treturn x\n",
        "\t\telse:\n",
        "\t\t\treturn x * torch.sigmoid(x)\n",
        "\n",
        "def createnn(inputn, hn, outputn):\n",
        "    return nn.Sequential(\n",
        "        nn.Linear(inputn, hn), Swish(),\n",
        "        nn.Linear(hn, hn), Swish(),\n",
        "        nn.Linear(hn, hn), Swish(),\n",
        "        nn.Linear(hn, hn), Swish(),\n",
        "        nn.Linear(hn, hn), Swish(),\n",
        "        nn.Linear(hn, hn), Swish(),\n",
        "        nn.Linear(hn, hn),\n",
        "        nn.Linear(hn, outputn)\n",
        "    )\n",
        "\n",
        "def init_normal(m):\n",
        "\tif type(m) == nn.Linear:\n",
        "\t\tnn.init.kaiming_normal_(m.weight)"
      ]
    },
    {
      "cell_type": "code",
      "execution_count": 17,
      "metadata": {
        "id": "iSegiiD4OXME"
      },
      "outputs": [],
      "source": [
        "  phimodel = createnn(4, 128, 1).to(device)\n",
        "  phimodel.apply(init_normal)\n",
        "  lr = 0.0001\n",
        "  torch.manual_seed(42)\n",
        "  optimizer = optim.Adam(phimodel.parameters(), lr=lr, betas = (0.9,0.99), eps = 10**-15)\n",
        "\n",
        "  ## making model wih optimizer Adam"
      ]
    },
    {
      "cell_type": "code",
      "execution_count": 18,
      "metadata": {
        "id": "RyITdzmMSXCg"
      },
      "outputs": [],
      "source": [
        "def eqloss(x, y, t, vp):\n",
        "\n",
        "  ###loss eq phi_tt - vp^2(phi_xx+phi_yy+phi_zz) - S\n",
        "  x.detach().requires_grad = True\n",
        "  y.detach().requires_grad = True\n",
        "  t.detach().requires_grad = True\n",
        "\n",
        "\n",
        "  netin = torch.cat((x, y, t, vp), 1)\n",
        "  U = phimodel(netin)\n",
        "  U = U.view(len(U), -1)\n",
        "\n",
        "  phi_t = torch.autograd.grad(U,t,grad_outputs=torch.ones_like(t),create_graph = True,only_inputs=True)[0]\n",
        "  phi_tt = torch.autograd.grad(phi_t,t,grad_outputs=torch.ones_like(t),create_graph = True,only_inputs=True)[0]\n",
        "\n",
        "  phi_x = torch.autograd.grad(U,x,grad_outputs=torch.ones_like(t),create_graph = True,only_inputs=True)[0]\n",
        "  phi_xx = torch.autograd.grad(phi_x,x,grad_outputs=torch.ones_like(t),create_graph = True,only_inputs=True)[0]\n",
        "\n",
        "  phi_y = torch.autograd.grad(U,y,grad_outputs=torch.ones_like(t),create_graph = True,only_inputs=True)[0]\n",
        "  phi_yy = torch.autograd.grad(phi_y,y,grad_outputs=torch.ones_like(t),create_graph = True,only_inputs=True)[0]\n",
        "\n",
        "  loss = phi_tt - (vp**2)*(phi_xx + phi_yy)\n",
        "\n",
        "  loss_ = nn.MSELoss()(loss, torch.zeros_like(loss))\n",
        "  return loss_\n",
        "\n",
        "\n",
        "\n",
        "def boundaryloss(x, y, t, vp):\n",
        "  x.detach().requires_grad = True\n",
        "  y.detach().requires_grad = True\n",
        "  t.detach().requires_grad = True\n",
        "\n",
        "  netin = torch.cat((x, y, t, vp), 1)\n",
        "  U = phimodel(netin)\n",
        "  U = U.view(len(U), -1)\n",
        "\n",
        "  loss_ = nn.MSELoss()(U, S(x, y, t))\n",
        "  return loss_\n",
        "\n",
        "\n",
        "\n",
        "\n"
      ]
    },
    {
      "cell_type": "code",
      "execution_count": 19,
      "metadata": {
        "id": "MYrZ4t2PROEV"
      },
      "outputs": [],
      "source": [
        "#initializing wave velocities for different x y t inputs\n",
        "\n",
        "arr = []\n",
        "for i in torch.sqrt(x**2 + y**2):\n",
        "  arr.append(getvp(i))\n",
        "vpall = torch.stack(arr).view(-1, 1)\n",
        "\n",
        "arr = []\n",
        "for i in torch.sqrt(xi**2 + yi**2):\n",
        "  arr.append(getvp(i))\n",
        "vpi = torch.stack(arr).view(-1, 1)\n",
        "\n",
        "arr = []\n",
        "for i in torch.sqrt(xo**2 + yo**2):\n",
        "  arr.append(getvp(i))\n",
        "vpo = torch.stack(arr).view(-1, 1)"
      ]
    },
    {
      "cell_type": "code",
      "execution_count": null,
      "metadata": {
        "id": "hjG95SFpeG9_"
      },
      "outputs": [],
      "source": [
        "# epochs = 900\n",
        "\n",
        "# for epoch in range(epochs):\n",
        "#     phimodel.zero_grad()\n",
        "\n",
        "#     loss_eq = eqloss(x, y, t, vpall)\n",
        "#     loss_boundary = boundaryloss(xo, yo, to, vpo)\n",
        "\n",
        "#     loss = loss_eq + loss_boundary\n",
        "#     loss.backward()\n",
        "\n",
        "#     optimizer.step()\n",
        "\n",
        "#     if epoch%100 == 0:\n",
        "#         print('Train Epoch: {} \\tLoss: {:.10f}  '.format(epoch, loss.item()))"
      ]
    },
    {
      "cell_type": "markdown",
      "metadata": {
        "id": "TP00iv64f30z"
      },
      "source": [
        "## **We have already run the model and saved the weights... As the model takes a lot of time to train, run the following cell to access the weights of the trained model**"
      ]
    },
    {
      "cell_type": "code",
      "execution_count": 20,
      "metadata": {
        "colab": {
          "base_uri": "https://localhost:8080/"
        },
        "id": "9jKGQEGTf7Th",
        "outputId": "eb6f628b-3ecc-4a22-af52-962426004a7b"
      },
      "outputs": [
        {
          "output_type": "stream",
          "name": "stderr",
          "text": [
            "<ipython-input-20-f60d89c354d2>:1: FutureWarning: You are using `torch.load` with `weights_only=False` (the current default value), which uses the default pickle module implicitly. It is possible to construct malicious pickle data which will execute arbitrary code during unpickling (See https://github.com/pytorch/pytorch/blob/main/SECURITY.md#untrusted-models for more details). In a future release, the default value for `weights_only` will be flipped to `True`. This limits the functions that could be executed during unpickling. Arbitrary objects will no longer be allowed to be loaded via this mode unless they are explicitly allowlisted by the user via `torch.serialization.add_safe_globals`. We recommend you start setting `weights_only=True` for any use case where you don't have full control of the loaded file. Please open an issue on GitHub for any issues related to this experimental feature.\n",
            "  phimodel = torch.load('phimodelp.pth')\n"
          ]
        }
      ],
      "source": [
        "phimodel = torch.load('phimodelp.pth')"
      ]
    },
    {
      "cell_type": "code",
      "execution_count": 21,
      "metadata": {
        "colab": {
          "base_uri": "https://localhost:8080/",
          "height": 1000
        },
        "id": "DGostaQ_ZlNF",
        "outputId": "de232eaf-0a9c-4e13-f04d-ba26a3849a25"
      },
      "outputs": [
        {
          "output_type": "stream",
          "name": "stderr",
          "text": [
            "/usr/local/lib/python3.11/dist-packages/torch/autograd/graph.py:825: UserWarning: Attempting to run cuBLAS, but there was no current CUDA context! Attempting to set the primary context... (Triggered internally at ../aten/src/ATen/cuda/CublasHandlePool.cpp:135.)\n",
            "  return Variable._execution_engine.run_backward(  # Calls into the C++ engine to run the backward pass\n",
            "WARNING:matplotlib.axes._base:Ignoring fixed y limits to fulfill fixed data aspect with adjustable data limits.\n"
          ]
        },
        {
          "output_type": "stream",
          "name": "stdout",
          "text": [
            "[10.84081] [1435.4729]\n"
          ]
        },
        {
          "output_type": "stream",
          "name": "stderr",
          "text": [
            "WARNING:matplotlib.axes._base:Ignoring fixed y limits to fulfill fixed data aspect with adjustable data limits.\n"
          ]
        },
        {
          "output_type": "stream",
          "name": "stdout",
          "text": [
            "[1.9947019] [2107.9075]\n"
          ]
        },
        {
          "output_type": "stream",
          "name": "stderr",
          "text": [
            "WARNING:matplotlib.axes._base:Ignoring fixed y limits to fulfill fixed data aspect with adjustable data limits.\n"
          ]
        },
        {
          "output_type": "stream",
          "name": "stdout",
          "text": [
            "[0.52421004] [1647.0964]\n"
          ]
        },
        {
          "output_type": "stream",
          "name": "stderr",
          "text": [
            "WARNING:matplotlib.axes._base:Ignoring fixed y limits to fulfill fixed data aspect with adjustable data limits.\n"
          ]
        },
        {
          "output_type": "stream",
          "name": "stdout",
          "text": [
            "[0.708034] [1102.0409]\n"
          ]
        },
        {
          "output_type": "stream",
          "name": "stderr",
          "text": [
            "WARNING:matplotlib.axes._base:Ignoring fixed y limits to fulfill fixed data aspect with adjustable data limits.\n"
          ]
        },
        {
          "output_type": "stream",
          "name": "stdout",
          "text": [
            "[0.2848492] [1010.3521]\n"
          ]
        },
        {
          "output_type": "stream",
          "name": "stderr",
          "text": [
            "WARNING:matplotlib.axes._base:Ignoring fixed y limits to fulfill fixed data aspect with adjustable data limits.\n"
          ]
        },
        {
          "output_type": "stream",
          "name": "stdout",
          "text": [
            "[1.2509769] [922.574]\n"
          ]
        },
        {
          "output_type": "stream",
          "name": "stderr",
          "text": [
            "WARNING:matplotlib.axes._base:Ignoring fixed y limits to fulfill fixed data aspect with adjustable data limits.\n"
          ]
        },
        {
          "output_type": "stream",
          "name": "stdout",
          "text": [
            "[0.42928478] [703.0104]\n"
          ]
        },
        {
          "output_type": "stream",
          "name": "stderr",
          "text": [
            "WARNING:matplotlib.axes._base:Ignoring fixed y limits to fulfill fixed data aspect with adjustable data limits.\n"
          ]
        },
        {
          "output_type": "stream",
          "name": "stdout",
          "text": [
            "[0.16713767] [755.74646]\n"
          ]
        },
        {
          "output_type": "stream",
          "name": "stderr",
          "text": [
            "WARNING:matplotlib.axes._base:Ignoring fixed y limits to fulfill fixed data aspect with adjustable data limits.\n"
          ]
        },
        {
          "output_type": "stream",
          "name": "stdout",
          "text": [
            "[0.31715196] [726.74066]\n"
          ]
        },
        {
          "output_type": "stream",
          "name": "stderr",
          "text": [
            "WARNING:matplotlib.axes._base:Ignoring fixed y limits to fulfill fixed data aspect with adjustable data limits.\n"
          ]
        },
        {
          "output_type": "stream",
          "name": "stdout",
          "text": [
            "[0.15222973] [752.4664]\n"
          ]
        },
        {
          "output_type": "stream",
          "name": "stderr",
          "text": [
            "WARNING:matplotlib.axes._base:Ignoring fixed y limits to fulfill fixed data aspect with adjustable data limits.\n"
          ]
        },
        {
          "output_type": "stream",
          "name": "stdout",
          "text": [
            "[0.4325898] [706.7234]\n"
          ]
        },
        {
          "output_type": "stream",
          "name": "stderr",
          "text": [
            "WARNING:matplotlib.axes._base:Ignoring fixed y limits to fulfill fixed data aspect with adjustable data limits.\n"
          ]
        },
        {
          "output_type": "stream",
          "name": "stdout",
          "text": [
            "[0.2688415] [720.05444]\n"
          ]
        },
        {
          "output_type": "stream",
          "name": "stderr",
          "text": [
            "WARNING:matplotlib.axes._base:Ignoring fixed y limits to fulfill fixed data aspect with adjustable data limits.\n"
          ]
        },
        {
          "output_type": "stream",
          "name": "stdout",
          "text": [
            "[0.4589148] [755.51074]\n"
          ]
        },
        {
          "output_type": "stream",
          "name": "stderr",
          "text": [
            "WARNING:matplotlib.axes._base:Ignoring fixed y limits to fulfill fixed data aspect with adjustable data limits.\n"
          ]
        },
        {
          "output_type": "stream",
          "name": "stdout",
          "text": [
            "[1.1272522] [778.3699]\n"
          ]
        },
        {
          "output_type": "stream",
          "name": "stderr",
          "text": [
            "WARNING:matplotlib.axes._base:Ignoring fixed y limits to fulfill fixed data aspect with adjustable data limits.\n"
          ]
        },
        {
          "output_type": "stream",
          "name": "stdout",
          "text": [
            "[0.8155209] [791.88696]\n"
          ]
        },
        {
          "output_type": "stream",
          "name": "stderr",
          "text": [
            "WARNING:matplotlib.axes._base:Ignoring fixed y limits to fulfill fixed data aspect with adjustable data limits.\n"
          ]
        },
        {
          "output_type": "stream",
          "name": "stdout",
          "text": [
            "[0.61336046] [787.75507]\n"
          ]
        },
        {
          "output_type": "stream",
          "name": "stderr",
          "text": [
            "WARNING:matplotlib.axes._base:Ignoring fixed y limits to fulfill fixed data aspect with adjustable data limits.\n"
          ]
        },
        {
          "output_type": "stream",
          "name": "stdout",
          "text": [
            "[0.40371665] [773.75104]\n"
          ]
        },
        {
          "output_type": "stream",
          "name": "stderr",
          "text": [
            "WARNING:matplotlib.axes._base:Ignoring fixed y limits to fulfill fixed data aspect with adjustable data limits.\n"
          ]
        },
        {
          "output_type": "stream",
          "name": "stdout",
          "text": [
            "[0.28314474] [756.08813]\n"
          ]
        },
        {
          "output_type": "stream",
          "name": "stderr",
          "text": [
            "WARNING:matplotlib.axes._base:Ignoring fixed y limits to fulfill fixed data aspect with adjustable data limits.\n"
          ]
        },
        {
          "output_type": "stream",
          "name": "stdout",
          "text": [
            "[0.39256603] [761.01385]\n"
          ]
        },
        {
          "output_type": "stream",
          "name": "stderr",
          "text": [
            "WARNING:matplotlib.axes._base:Ignoring fixed y limits to fulfill fixed data aspect with adjustable data limits.\n"
          ]
        },
        {
          "output_type": "stream",
          "name": "stdout",
          "text": [
            "[0.47055772] [751.9614]\n"
          ]
        },
        {
          "output_type": "stream",
          "name": "stderr",
          "text": [
            "WARNING:matplotlib.axes._base:Ignoring fixed y limits to fulfill fixed data aspect with adjustable data limits.\n"
          ]
        },
        {
          "output_type": "stream",
          "name": "stdout",
          "text": [
            "[1.1128998] [776.88403]\n"
          ]
        },
        {
          "output_type": "stream",
          "name": "stderr",
          "text": [
            "WARNING:matplotlib.axes._base:Ignoring fixed y limits to fulfill fixed data aspect with adjustable data limits.\n"
          ]
        },
        {
          "output_type": "stream",
          "name": "stdout",
          "text": [
            "[0.34631574] [760.5399]\n"
          ]
        },
        {
          "output_type": "stream",
          "name": "stderr",
          "text": [
            "WARNING:matplotlib.axes._base:Ignoring fixed y limits to fulfill fixed data aspect with adjustable data limits.\n"
          ]
        },
        {
          "output_type": "stream",
          "name": "stdout",
          "text": [
            "[0.6687009] [750.47565]\n"
          ]
        },
        {
          "output_type": "stream",
          "name": "stderr",
          "text": [
            "WARNING:matplotlib.axes._base:Ignoring fixed y limits to fulfill fixed data aspect with adjustable data limits.\n"
          ]
        },
        {
          "output_type": "stream",
          "name": "stdout",
          "text": [
            "[1.0511351] [740.7959]\n"
          ]
        },
        {
          "output_type": "stream",
          "name": "stderr",
          "text": [
            "WARNING:matplotlib.axes._base:Ignoring fixed y limits to fulfill fixed data aspect with adjustable data limits.\n"
          ]
        },
        {
          "output_type": "stream",
          "name": "stdout",
          "text": [
            "[0.45632854] [756.43677]\n"
          ]
        },
        {
          "output_type": "stream",
          "name": "stderr",
          "text": [
            "WARNING:matplotlib.axes._base:Ignoring fixed y limits to fulfill fixed data aspect with adjustable data limits.\n"
          ]
        },
        {
          "output_type": "stream",
          "name": "stdout",
          "text": [
            "[0.97983366] [740.79266]\n"
          ]
        },
        {
          "output_type": "stream",
          "name": "stderr",
          "text": [
            "WARNING:matplotlib.axes._base:Ignoring fixed y limits to fulfill fixed data aspect with adjustable data limits.\n"
          ]
        },
        {
          "output_type": "stream",
          "name": "stdout",
          "text": [
            "[0.4429618] [768.93146]\n"
          ]
        },
        {
          "output_type": "stream",
          "name": "stderr",
          "text": [
            "WARNING:matplotlib.axes._base:Ignoring fixed y limits to fulfill fixed data aspect with adjustable data limits.\n"
          ]
        },
        {
          "output_type": "stream",
          "name": "stdout",
          "text": [
            "[1.1890708] [760.4624]\n"
          ]
        },
        {
          "output_type": "stream",
          "name": "stderr",
          "text": [
            "WARNING:matplotlib.axes._base:Ignoring fixed y limits to fulfill fixed data aspect with adjustable data limits.\n"
          ]
        },
        {
          "output_type": "stream",
          "name": "stdout",
          "text": [
            "[0.24144213] [813.0675]\n"
          ]
        },
        {
          "output_type": "stream",
          "name": "stderr",
          "text": [
            "WARNING:matplotlib.axes._base:Ignoring fixed y limits to fulfill fixed data aspect with adjustable data limits.\n"
          ]
        },
        {
          "output_type": "stream",
          "name": "stdout",
          "text": [
            "[0.97729594] [736.0913]\n"
          ]
        },
        {
          "output_type": "stream",
          "name": "stderr",
          "text": [
            "WARNING:matplotlib.axes._base:Ignoring fixed y limits to fulfill fixed data aspect with adjustable data limits.\n"
          ]
        },
        {
          "output_type": "stream",
          "name": "stdout",
          "text": [
            "[0.38840047] [766.99225]\n"
          ]
        },
        {
          "output_type": "stream",
          "name": "stderr",
          "text": [
            "WARNING:matplotlib.axes._base:Ignoring fixed y limits to fulfill fixed data aspect with adjustable data limits.\n"
          ]
        },
        {
          "output_type": "stream",
          "name": "stdout",
          "text": [
            "[0.38901988] [750.16113]\n"
          ]
        },
        {
          "output_type": "stream",
          "name": "stderr",
          "text": [
            "WARNING:matplotlib.axes._base:Ignoring fixed y limits to fulfill fixed data aspect with adjustable data limits.\n"
          ]
        },
        {
          "output_type": "stream",
          "name": "stdout",
          "text": [
            "[0.57686037] [771.73584]\n"
          ]
        },
        {
          "output_type": "stream",
          "name": "stderr",
          "text": [
            "WARNING:matplotlib.axes._base:Ignoring fixed y limits to fulfill fixed data aspect with adjustable data limits.\n"
          ]
        },
        {
          "output_type": "stream",
          "name": "stdout",
          "text": [
            "[0.979835] [759.7554]\n"
          ]
        },
        {
          "output_type": "stream",
          "name": "stderr",
          "text": [
            "WARNING:matplotlib.axes._base:Ignoring fixed y limits to fulfill fixed data aspect with adjustable data limits.\n"
          ]
        },
        {
          "output_type": "stream",
          "name": "stdout",
          "text": [
            "[0.3216494] [797.6153]\n"
          ]
        },
        {
          "output_type": "stream",
          "name": "stderr",
          "text": [
            "WARNING:matplotlib.axes._base:Ignoring fixed y limits to fulfill fixed data aspect with adjustable data limits.\n"
          ]
        },
        {
          "output_type": "stream",
          "name": "stdout",
          "text": [
            "[0.46974495] [769.67944]\n"
          ]
        },
        {
          "output_type": "stream",
          "name": "stderr",
          "text": [
            "WARNING:matplotlib.axes._base:Ignoring fixed y limits to fulfill fixed data aspect with adjustable data limits.\n"
          ]
        },
        {
          "output_type": "stream",
          "name": "stdout",
          "text": [
            "[0.4739073] [776.18854]\n"
          ]
        },
        {
          "output_type": "stream",
          "name": "stderr",
          "text": [
            "WARNING:matplotlib.axes._base:Ignoring fixed y limits to fulfill fixed data aspect with adjustable data limits.\n"
          ]
        },
        {
          "output_type": "stream",
          "name": "stdout",
          "text": [
            "[0.28832692] [774.946]\n"
          ]
        },
        {
          "output_type": "stream",
          "name": "stderr",
          "text": [
            "WARNING:matplotlib.axes._base:Ignoring fixed y limits to fulfill fixed data aspect with adjustable data limits.\n"
          ]
        },
        {
          "output_type": "stream",
          "name": "stdout",
          "text": [
            "[0.20424408] [771.73584]\n"
          ]
        },
        {
          "output_type": "stream",
          "name": "stderr",
          "text": [
            "WARNING:matplotlib.axes._base:Ignoring fixed y limits to fulfill fixed data aspect with adjustable data limits.\n"
          ]
        },
        {
          "output_type": "stream",
          "name": "stdout",
          "text": [
            "[0.8784494] [759.103]\n"
          ]
        },
        {
          "output_type": "display_data",
          "data": {
            "text/plain": [
              "<IPython.core.display.Javascript object>"
            ],
            "application/javascript": [
              "\n",
              "    async function download(id, filename, size) {\n",
              "      if (!google.colab.kernel.accessAllowed) {\n",
              "        return;\n",
              "      }\n",
              "      const div = document.createElement('div');\n",
              "      const label = document.createElement('label');\n",
              "      label.textContent = `Downloading \"${filename}\": `;\n",
              "      div.appendChild(label);\n",
              "      const progress = document.createElement('progress');\n",
              "      progress.max = size;\n",
              "      div.appendChild(progress);\n",
              "      document.body.appendChild(div);\n",
              "\n",
              "      const buffers = [];\n",
              "      let downloaded = 0;\n",
              "\n",
              "      const channel = await google.colab.kernel.comms.open(id);\n",
              "      // Send a message to notify the kernel that we're ready.\n",
              "      channel.send({})\n",
              "\n",
              "      for await (const message of channel.messages) {\n",
              "        // Send a message to notify the kernel that we're ready.\n",
              "        channel.send({})\n",
              "        if (message.buffers) {\n",
              "          for (const buffer of message.buffers) {\n",
              "            buffers.push(buffer);\n",
              "            downloaded += buffer.byteLength;\n",
              "            progress.value = downloaded;\n",
              "          }\n",
              "        }\n",
              "      }\n",
              "      const blob = new Blob(buffers, {type: 'application/binary'});\n",
              "      const a = document.createElement('a');\n",
              "      a.href = window.URL.createObjectURL(blob);\n",
              "      a.download = filename;\n",
              "      div.appendChild(a);\n",
              "      a.click();\n",
              "      div.remove();\n",
              "    }\n",
              "  "
            ]
          },
          "metadata": {}
        },
        {
          "output_type": "display_data",
          "data": {
            "text/plain": [
              "<IPython.core.display.Javascript object>"
            ],
            "application/javascript": [
              "download(\"download_d8e37fba-f82a-4ac0-9238-02ebf24013c8\", \"ufinal.mp4\", 1189174)"
            ]
          },
          "metadata": {}
        }
      ],
      "source": [
        "import torch\n",
        "import matplotlib.pyplot as plt\n",
        "import cv2\n",
        "import numpy as np\n",
        "\n",
        "# Placeholder for the generated frames\n",
        "frames = []\n",
        "\n",
        "for i in range(0, 2000, 50):\n",
        "    xplot = xi\n",
        "    yplot = yi\n",
        "    tplot = torch.ones_like(xplot) * i\n",
        "\n",
        "    xplot_cpu = xplot.cpu().detach().numpy()\n",
        "    yplot_cpu = yplot.cpu().detach().numpy()\n",
        "    tplot_cpu = tplot.cpu().detach().numpy()\n",
        "\n",
        "    xplot.detach().requires_grad = True\n",
        "    yplot.detach().requires_grad = True\n",
        "    tplot.detach().requires_grad = True\n",
        "\n",
        "    # Predict phi using the model\n",
        "\n",
        "    phi = phimodel(torch.cat((xplot, yplot, tplot, vpi), dim=1))\n",
        "    U = phi.view(len(phi), -1)\n",
        "\n",
        "    ux = torch.autograd.grad(U,xplot,grad_outputs=torch.ones_like(xplot),create_graph = True,only_inputs=True)[0]\n",
        "    uy = torch.autograd.grad(U,yplot,grad_outputs=torch.ones_like(yplot),create_graph = True,only_inputs=True)[0]\n",
        "    # Convert phi to NumPy\n",
        "\n",
        "    magu = torch.sqrt(ux**2 + uy**2)\n",
        "    phi_grid = phi.detach().cpu().numpy().reshape(xplot_cpu.shape)\n",
        "    u_grid = magu.detach().cpu().numpy().reshape(xplot_cpu.shape)\n",
        "\n",
        "\n",
        "    print(min(u_grid), max(u_grid))\n",
        "    # Scatter plot for circular graph\n",
        "    fig, ax = plt.subplots(figsize=(8, 8))\n",
        "    scatter = ax.scatter(xplot_cpu.ravel(), yplot_cpu.ravel(), c=u_grid.ravel(), cmap=\"coolwarm\", vmin=0, vmax=800)\n",
        "    plt.colorbar(scatter, label=\"u(x, y)\")\n",
        "    ax.set_xlim([xplot_cpu.min(), xplot_cpu.max()])\n",
        "    ax.set_ylim([yplot_cpu.min(), yplot_cpu.max()])\n",
        "    ax.set_aspect('equal', adjustable='datalim')\n",
        "    plt.title(f\"Circular Graph of u(x, y), t={i}\")\n",
        "\n",
        "    # Save the frame to an image buffer\n",
        "    plt.savefig(\"temp_frame.png\", bbox_inches='tight', pad_inches=0.1)\n",
        "    plt.close(fig)\n",
        "\n",
        "    # Read saved frame and add to list\n",
        "    frame = cv2.imread(\"temp_frame.png\")\n",
        "    if frame is not None:\n",
        "        frames.append(frame)\n",
        "\n",
        "# Define video properties\n",
        "if frames:\n",
        "    height, width, _ = frames[0].shape\n",
        "    out = cv2.VideoWriter('ufinal.mp4', cv2.VideoWriter_fourcc(*'mp4v'), 10, (width, height))\n",
        "    for frame in frames:\n",
        "        out.write(frame)\n",
        "    out.release()\n",
        "\n",
        "    # Download the video\n",
        "    from google.colab import files\n",
        "    files.download('ufinal.mp4')\n",
        "else:\n",
        "    print(\"No frames were generated. Please check the input data.\")\n"
      ]
    },
    {
      "cell_type": "code",
      "execution_count": 22,
      "metadata": {
        "id": "fZ8tmAWqFcDS"
      },
      "outputs": [],
      "source": [
        "rad = 3389.5  # Radius of the circle\n",
        "theta = np.linspace(np.pi/2, 5 * np.pi/2, 360, endpoint=False)  # 360 equally spaced angles\n",
        "\n",
        "# Convert polar coordinates to Cartesian coordinates\n",
        "x = rad * np.cos(theta)\n",
        "y = rad * np.sin(theta)\n",
        "\n",
        "# Combine x and y into a list of coordinates\n",
        "circumference_points = np.column_stack((x, y))\n"
      ]
    },
    {
      "cell_type": "code",
      "execution_count": 23,
      "metadata": {
        "id": "tss9qTDhHcB9"
      },
      "outputs": [],
      "source": [
        "xst = []\n",
        "yst = []\n",
        "for (x, y) in circumference_points:\n",
        "  xst.append(x)\n",
        "  yst.append(y)"
      ]
    },
    {
      "cell_type": "code",
      "execution_count": 24,
      "metadata": {
        "id": "9wbVOZK6valY"
      },
      "outputs": [],
      "source": [
        "  xs = np.array(xst)\n",
        "  ys = np.array(yst)\n",
        "\n",
        "\n",
        "  xs = xs.reshape(-1, 1)\n",
        "  ys = ys.reshape(-1, 1)\n",
        "\n",
        "\n",
        "  xs = torch.Tensor(xs).requires_grad_(True).to(device).type(torch.cuda.FloatTensor)\n",
        "  ys = torch.Tensor(ys).requires_grad_(True).to(device).type(torch.cuda.FloatTensor)"
      ]
    },
    {
      "cell_type": "code",
      "execution_count": 25,
      "metadata": {
        "id": "Dhmxbkt05MrW"
      },
      "outputs": [],
      "source": [
        "time = []\n",
        "arr = []\n",
        "for i in torch.sqrt(xs**2 + ys**2):\n",
        "  arr.append(getvp(i))\n",
        "vps = torch.stack(arr).view(-1, 1)"
      ]
    },
    {
      "cell_type": "code",
      "execution_count": 26,
      "metadata": {
        "id": "P36xIXLU1X7n"
      },
      "outputs": [],
      "source": [
        "\n",
        "for i in range(0, 2000, 50):\n",
        "\n",
        "  xs = np.array(xst)\n",
        "  ys = np.array(yst)\n",
        "  ts = np.ones_like(xs) * i\n",
        "\n",
        "  xs = xs.reshape(-1, 1)\n",
        "  ys = ys.reshape(-1, 1)\n",
        "  ts = ts.reshape(-1, 1)\n",
        "\n",
        "  xs = torch.Tensor(xs).requires_grad_(True).to(device).type(torch.cuda.FloatTensor)\n",
        "  ys = torch.Tensor(ys).requires_grad_(True).to(device).type(torch.cuda.FloatTensor)\n",
        "  ts = torch.Tensor(ts).requires_grad_(True).to(device).type(torch.cuda.FloatTensor)\n",
        "\n",
        "  time.append(phimodel(torch.cat((xs, ys, ts, vps), dim = 1)))"
      ]
    },
    {
      "cell_type": "code",
      "execution_count": 27,
      "metadata": {
        "id": "lGftuQ512ELk"
      },
      "outputs": [],
      "source": [
        "t = []\n",
        "for j in range(360):\n",
        "\n",
        "  temp = -999999999999999999\n",
        "  for i in time:\n",
        "    i.cpu().detach().numpy()\n",
        "    temp = max(temp, i[j].cpu().detach().numpy()[0]) #max phi at points on circumference\n",
        "\n",
        "  t.append(temp)"
      ]
    },
    {
      "cell_type": "markdown",
      "source": [],
      "metadata": {
        "id": "06JByBaD20Oj"
      }
    },
    {
      "cell_type": "code",
      "execution_count": 29,
      "metadata": {
        "colab": {
          "base_uri": "https://localhost:8080/",
          "height": 465
        },
        "id": "KmM5YPIX5WEU",
        "outputId": "b9ff77fb-80f2-42f2-8cbb-61c8a9484cdc"
      },
      "outputs": [
        {
          "output_type": "display_data",
          "data": {
            "text/plain": [
              "<Figure size 640x480 with 1 Axes>"
            ],
            "image/png": "[encoded data removed]"
          },
          "metadata": {}
        }
      ],
      "source": [
        "plt.plot(t)\n",
        "plt.xlabel(\"Angluar Position from epicentre (in degrees)\")\n",
        "plt.ylabel(\"Magnitude of Scalar Potential\")\n",
        "plt.show()\n",
        "\n",
        "##plot of scalar potential on differnet points of circumference(x axis is degrees)\n",
        "## observer two dips"
      ]
    },
    {
      "cell_type": "code",
      "execution_count": 29,
      "metadata": {
        "id": "L6u6DKNz6eDi"
      },
      "outputs": [],
      "source": []
    },
    {
      "cell_type": "code",
      "execution_count": null,
      "metadata": {
        "id": "YtHehOBv7ZJP"
      },
      "outputs": [],
      "source": []
    }
  ],
  "metadata": {
    "accelerator": "GPU",
    "colab": {
      "gpuType": "T4",
      "provenance": []
    },
    "kernelspec": {
      "display_name": "Python 3 (ipykernel)",
      "language": "python",
      "name": "python3"
    },
    "language_info": {
      "codemirror_mode": {
        "name": "ipython",
        "version": 3
      },
      "file_extension": ".py",
      "mimetype": "text/x-python",
      "name": "python",
      "nbconvert_exporter": "python",
      "pygments_lexer": "ipython3",
      "version": "3.11.7"
    }
  },
  "nbformat": 4,
  "nbformat_minor": 0
}